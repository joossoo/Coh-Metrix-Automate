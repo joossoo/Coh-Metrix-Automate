{
 "cells": [
  {
   "cell_type": "code",
   "execution_count": 10,
   "metadata": {},
   "outputs": [],
   "source": [
    "import sys\n",
    "import json\n",
    "import numpy as np\n",
    "import re\n",
    "import requests\n",
    "import time"
   ]
  },
  {
   "cell_type": "code",
   "execution_count": 2,
   "metadata": {},
   "outputs": [],
   "source": [
    "def get_data(writingSample):\n",
    "    s = requests.Session()\n",
    "    starter = s.get('http://141.225.41.245/cohmetrixgates/Home.aspx', timeout=120)\n",
    "    tree = html.fromstring(starter.text)\n",
    "\n",
    "    cookies = {\n",
    "        'ASP.NET_SessionId': 'nhobvdrzvutqzq45cjkb3w45'\n",
    "    }\n",
    "\n",
    "    headers = {\n",
    "        'Host': '141.225.41.245',\n",
    "        'User-Agent': 'Mozilla/5.0 (X11; Linux x86_64) AppleWebKit/537.36 (KHTML, like Gecko) Chrome/76.0.3809.100 Safari/537.36',\n",
    "        'Accept': 'text/html,application/xhtml+xml,application/xml;q=0.9,image/webp,image/apng,*/*;q=0.8,application/signed-exchange;v=b3',\n",
    "        'Accept-Language': 'en-US,en;q=0.9',\n",
    "        'Referer': 'http://141.225.41.245/cohmetrixgates/Home.aspx',\n",
    "        'Connection': 'keep-alive',\n",
    "        'Pragma': 'no-cache',\n",
    "        'Cache-Control': 'no-cache',\n",
    "    }\n",
    "    viewstate = tree.xpath('//input[@id=\"__VIEWSTATE\"]/@value')[0]\n",
    "    validation = tree.xpath('//input[@id=\"__VIEWSTATEGENERATOR\"]/@value')[0]\n",
    "    view = tree.xpath('//input[@id=\"__EVENTVALIDATION\"]/@value')[0]\n",
    "\n",
    "    data = {\n",
    "        '__VIEWSTATE': viewstate,\n",
    "        '__VIEWSTATEGENERATOR': validation,\n",
    "        '__EVENTVALIDATION': view,\n",
    "        'ctl00$ContentPlaceHolder1$txtUserName': 'rb',\n",
    "        'ctl00$ContentPlaceHolder1$btnLogin': 'Enter',\n",
    "    }\n",
    "    l = s.post('http://141.225.41.245/cohmetrixgates/Home.aspx', headers=headers, data=data, cookies=cookies, timeout=120)\n",
    "\n",
    "    headers = {\n",
    "        'Host': '141.225.41.245',\n",
    "        'User-Agent': 'Mozilla/5.0 (X11; Linux x86_64) AppleWebKit/537.36 (KHTML, like Gecko) Chrome/76.0.3809.100 Safari/537.36',\n",
    "        'Accept': 'text/html,application/xhtml+xml,application/xml;q=0.9,image/webp,image/apng,*/*;q=0.8,application/signed-exchange;v=b3',\n",
    "        'Accept-Language': 'en-US,en;q=0.9',\n",
    "        'Referer': 'http://141.225.41.245/cohmetrixgates/Design1.aspx',\n",
    "        'Connection': 'keep-alive',\n",
    "        'Pragma': 'no-cache',\n",
    "        'Cache-Control': 'no-cache',\n",
    "    }\n",
    "    viewstate = \"/wEPDwULLTE2NzE0NTQyNzgPZBYCZg9kFgICAw9kFgQCAw9kFgICBQ8PFgIeBFRleHQFAnJiZGQCBQ9kFgICBQ8WAh4HVmlzaWJsZWhkZD9kZprglf5/H4YayQZiNiUeKwke\"\n",
    "    validation = '/wEWBQKQ5ID8AgKMjYnCAwK/86lLAoWF7b8NAsW5+oAEYy+Z8IQxtc+PyX5/TU0QntRW9dU='\n",
    "\n",
    "    sampleData = {\n",
    "        '__VIEWSTATE': viewstate,\n",
    "        '__VIEWSTATEGENERATOR': '1F2DA56D',\n",
    "        '__EVENTVALIDATION': validation,\n",
    "        'ctl00$ContentPlaceHolder1$txtMultiLine': writingSample,\n",
    "        'ctl00$ContentPlaceHolder1$btnAnalyse': 'Analyze',\n",
    "    }\n",
    "    \n",
    "    t = s.post('http://141.225.41.245/cohmetrixgates/Design1.aspx', headers=headers, cookies=cookies, data=sampleData, timeout=120)\n",
    "\n",
    "    return t.text\n"
   ]
  },
  {
   "cell_type": "code",
   "execution_count": null,
   "metadata": {},
   "outputs": [],
   "source": [
    "def get_data2(writingsample):\n",
    "    webdriver= Chrome()\n",
    "    sampleData = {\n",
    "        '__VIEWSTATE': viewstate,\n",
    "        '__VIEWSTATEGENERATOR': '1F2DA56D',\n",
    "        '__EVENTVALIDATION': validation,\n",
    "        'ctl00$ContentPlaceHolder1$txtMultiLine': writingSample,\n",
    "        'ctl00$ContentPlaceHolder1$btnAnalyse:': 'Analyze',\n",
    "    }\n",
    "    t= webdriver.request('POST', 'http://141.225.41.245/cohmetrixgates/Design1.aspx', data=sampleData)\n",
    "    print (response)"
   ]
  },
  {
   "cell_type": "code",
   "execution_count": null,
   "metadata": {},
   "outputs": [],
   "source": [
    "def parse_data(text, writingSampleId, outputFileName):\n",
    "    tree = html.fromstring(text)\n",
    "    rows = tree.xpath('//tr')\n",
    "    workbook = get_result_file(outputFileName)\n",
    "\n",
    "    worksheet = workbook.active\n",
    "    worksheet.title = \"Coh Results\"\n",
    "\n",
    "    add_excel_header(rows, worksheet)\n",
    "\n",
    "    # Read all the rows and check to make sure we haven't put this value in before\n",
    "    add_parsed_results_to_spreadsheet(rows, worksheet, writingSampleId)\n",
    "\n",
    "    workbook.save(outputFileName)\n"
   ]
  },
  {
   "cell_type": "code",
   "execution_count": 4,
   "metadata": {},
   "outputs": [
    {
     "name": "stdout",
     "output_type": "stream",
     "text": [
      "My name is rajat and I like to do work. \n",
      "\n"
     ]
    }
   ],
   "source": [
    "f= open('/home/bansal/Desktop/a.txt', 'r')\n",
    "text= f.read()\n",
    "print (text)\n",
    "f1= open('/home/bansal/Desktop/out1.txt', 'w')\n",
    "output= get_data(text)\n",
    "f1.write(output)\n",
    "f1.close()"
   ]
  },
  {
   "cell_type": "code",
   "execution_count": 12,
   "metadata": {},
   "outputs": [
    {
     "name": "stdout",
     "output_type": "stream",
     "text": [
      "['66', '3', '99', '92', '2']\n",
      "100\n"
     ]
    }
   ],
   "source": [
    "matches= re.findall(r'\\\"font-size:x-small;\">([0-9]+)%', output)\n",
    "print (matches)\n",
    "matches= np.array(matches, np.int)"
   ]
  }
 ],
 "metadata": {
  "kernelspec": {
   "display_name": "Python 3",
   "language": "python",
   "name": "python3"
  },
  "language_info": {
   "codemirror_mode": {
    "name": "ipython",
    "version": 3
   },
   "file_extension": ".py",
   "mimetype": "text/x-python",
   "name": "python",
   "nbconvert_exporter": "python",
   "pygments_lexer": "ipython3",
   "version": "3.5.2"
  }
 },
 "nbformat": 4,
 "nbformat_minor": 2
}
