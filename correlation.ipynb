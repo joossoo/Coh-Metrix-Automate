{
 "cells": [
  {
   "cell_type": "code",
   "execution_count": 1,
   "metadata": {},
   "outputs": [],
   "source": [
    "import numpy as np\n",
    "import pandas as pd\n",
    "import json\n",
    "from matplotlib import pyplot as plt"
   ]
  },
  {
   "cell_type": "code",
   "execution_count": 2,
   "metadata": {},
   "outputs": [],
   "source": [
    "def read_file(filename):\n",
    "    loc= '/home/bansal/Documents/SML/SML/BTP/' + filename\n",
    "    print (loc)\n",
    "    txtfile= open(loc, 'r')\n",
    "    lines= txtfile.read().split(' ')\n",
    "    array= []\n",
    "    for num in lines:\n",
    "        if(len(num)> 0):\n",
    "            array.append(float(num))\n",
    "    return array\n",
    "        \n",
    "        "
   ]
  },
  {
   "cell_type": "code",
   "execution_count": 3,
   "metadata": {},
   "outputs": [],
   "source": [
    "def read_json(filename):\n",
    "    loc= '/home/bansal/Downloads/' + filename + '.json'\n",
    "    print (loc)\n",
    "    scores= []\n",
    "    count= 0\n",
    "    for comment in open(loc, 'r'):\n",
    "        scores.append(abs(int(json.loads(comment)['ups'])))#nice\n",
    "    return scores"
   ]
  },
  {
   "cell_type": "code",
   "execution_count": 4,
   "metadata": {},
   "outputs": [],
   "source": [
    "def get_mean(array):\n",
    "    count= 0\n",
    "    for num in array:\n",
    "        if(num!= 0.0):\n",
    "            count+= 1\n",
    "    print (count)\n",
    "    return np.sum(array)/count\n"
   ]
  },
  {
   "cell_type": "code",
   "execution_count": 5,
   "metadata": {},
   "outputs": [],
   "source": [
    "def get_median(array):\n",
    "    array2= []\n",
    "    for i in array:\n",
    "        if(i!= 0.0):\n",
    "            array2.append(i)\n",
    "    return np.median(array2)"
   ]
  },
  {
   "cell_type": "code",
   "execution_count": 10,
   "metadata": {},
   "outputs": [],
   "source": [
    "def get_correlation(virality, formality):\n",
    "    subvirality= []\n",
    "    subformality= []\n",
    "    for i in range(len(virality)):\n",
    "        if(virality[i]> 0):\n",
    "            subvirality.append(virality[i])\n",
    "            subformality.append(formality[i])\n",
    "    print (len(subformality), len(subvirality))\n",
    "    return np.corrcoef(subformality, subvirality)\n",
    "    "
   ]
  },
  {
   "cell_type": "code",
   "execution_count": 12,
   "metadata": {},
   "outputs": [
    {
     "name": "stdout",
     "output_type": "stream",
     "text": [
      "/home/bansal/Documents/SML/SML/BTP/results-movies.txt\n",
      "/home/bansal/Downloads/results-movies.json\n",
      "9968\n",
      "-0.1270910914927769\n",
      "-0.12\n",
      "9398 9398\n",
      "[[1.         0.00259714]\n",
      " [0.00259714 1.        ]]\n"
     ]
    }
   ],
   "source": [
    "shower= read_file('results-shower.txt')\n",
    "showerscores= read_json(\"results-shower\")\n",
    "print (get_mean(shower))\n",
    "print (get_median(shower))\n",
    "print (get_correlation(moviescores, movies))\n"
   ]
  },
  {
   "cell_type": "code",
   "execution_count": null,
   "metadata": {},
   "outputs": [],
   "source": []
  }
 ],
 "metadata": {
  "kernelspec": {
   "display_name": "Python 3",
   "language": "python",
   "name": "python3"
  },
  "language_info": {
   "codemirror_mode": {
    "name": "ipython",
    "version": 3
   },
   "file_extension": ".py",
   "mimetype": "text/x-python",
   "name": "python",
   "nbconvert_exporter": "python",
   "pygments_lexer": "ipython3",
   "version": "3.5.2"
  }
 },
 "nbformat": 4,
 "nbformat_minor": 2
}
